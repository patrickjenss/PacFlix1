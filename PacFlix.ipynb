{
 "cells": [
  {
   "cell_type": "code",
   "execution_count": 1,
   "id": "bb7c747a",
   "metadata": {},
   "outputs": [
    {
     "name": "stdout",
     "output_type": "stream",
     "text": [
      "Requirement already satisfied: tabulate in c:\\users\\etvit\\anaconda3\\lib\\site-packages (0.9.0)\n",
      "Note: you may need to restart the kernel to use updated packages.\n"
     ]
    }
   ],
   "source": [
    "pip install tabulate"
   ]
  },
  {
   "cell_type": "code",
   "execution_count": 2,
   "id": "8c2b98ce-540e-4fb5-9bda-bba04fc2195e",
   "metadata": {},
   "outputs": [],
   "source": [
    "from tabulate import tabulate"
   ]
  },
  {
   "cell_type": "code",
   "execution_count": 3,
   "id": "6c6aa12b-1cc1-4d96-8507-0a1ee41bcee9",
   "metadata": {},
   "outputs": [],
   "source": [
    "data = {\n",
    "    \"Shandy\": [\"Basic Plan\", 12, \"shandy-2134\"],\n",
    "    \"Cahya\": [\"Standard Plan\", 24, \"cahya-abcd\"],\n",
    "    \"Ana\": [\"Premium Plan\", 5, \"ana-2f9g\"],\n",
    "    \"Bagus\": [\"Basic Plan\", 11, \"bagus-9f92\"]\n",
    "}"
   ]
  },
  {
   "cell_type": "code",
   "execution_count": 4,
   "id": "11c1b82a-697e-4fe3-97ab-e75df4789f7b",
   "metadata": {},
   "outputs": [],
   "source": [
    "class User:\n",
    "    def __init__(self, username, duration_plan, current_plan):\n",
    "        self.username = username\n",
    "        self.duration_plan = duration_plan\n",
    "        self.current_plan = current_plan\n",
    "\n",
    "    def check_benefit(self):\n",
    "        table = [[\"can_stream\", True, True, True],\n",
    "        [\"can_download\", True, True, True],\n",
    "        [\"has_SD\", True, True, True],\n",
    "        [\"has_HD\", False, True, True],\n",
    "        [\"has_UHD\", False, False, True],\n",
    "        [\"Number of Device\", 1, 2, 4],\n",
    "        [\"Content\", \"3rd party movie only\", \n",
    "                   \"Basic Plan Content + Sports (F1,Football,Basketball)\",\n",
    "                   \"Basic Plan + Standard Plan + PacFlix Original Movie or Series\"],\n",
    "        [\"Price\", 120000, 160000, 200000]]\n",
    "\n",
    "        header = [\"Basic Plan\", \"Standard Plan\", \"Premium Plan\"]\n",
    "        print(\"PacFlix\")\n",
    "        print(\"\")\n",
    "        print(tabulate(table, header))\n",
    "\n",
    "\n",
    "    def check_plan(self):\n",
    "        for key, value in data.items():\n",
    "            if key == self.username:\n",
    "                print(value[0])\n",
    "                print(value[1],\"Bulan\",\"\\n\")\n",
    "\n",
    "                try:\n",
    "    \n",
    "                    if value[0] == \"Basic Plan\":\n",
    "                        table = [[True, \"can_stream\"],\n",
    "                                 [True, \"can_download\"],\n",
    "                                 [True, \"has_SD\"],\n",
    "                                 [False, \"has_HD\"],\n",
    "                                 [False, \"has_UHD\"],\n",
    "                                 [1, \"Number of Device\"],\n",
    "                                 [\"3rd party movie only\", \"Content\"],\n",
    "                                 [120000, \"Price\"]]\n",
    "                        \n",
    "                        header = [\"Basic Plan\", \"Service\"]\n",
    "                        print(f\"{value[0]} PacFlix Benefit list\",\"\\n\")\n",
    "                        print(tabulate(table,header))\n",
    "    \n",
    "                    elif value[0] == \"Standard Plan\":\n",
    "                        table = [[True, \"can_stream\"],\n",
    "                                 [True, \"can_download\"],\n",
    "                                 [True, \"has_SD\"],\n",
    "                                 [True, \"has_HD\"],\n",
    "                                 [False, \"has_UHD\"],\n",
    "                                 [2, \"Number of Device\"],\n",
    "                                 [\"Basic Plan Content + Sports (F1,Football,Basketball)\", \"Content\"],\n",
    "                                 [160000, \"Price\"]]\n",
    "                        \n",
    "                        header = [\"Standard Plan\", \"Service\"]\n",
    "                        print(f\"{value[0]} PacFlix Benefit list\",\"\\n\")\n",
    "                        print(tabulate(table,header))\n",
    "                             \n",
    "                    elif value[0] == \"Premium Plan\":\n",
    "                        table = [[True, \"can_stream\"],\n",
    "                                 [True, \"can_download\"],\n",
    "                                 [True, \"has_SD\"],\n",
    "                                 [True, \"has_HD\"],\n",
    "                                 [True, \"has_UHD\"],\n",
    "                                 [4, \"Number of Device\"],\n",
    "                                 [\"Basic Plan + Standard Plan + PacFlix Original Movie or Series\", \"Content\"],\n",
    "                                 [200000, \"Price\"]]\n",
    "                        \n",
    "                        header = [\"Premium Plan\", \"Service\"]\n",
    "                        print(f\"{value[0]} PacFlix Benefit list\",\"\\n\")\n",
    "                        print(tabulate(table,header))\n",
    "    \n",
    "                    else:\n",
    "                        raise Exception (\"Plan didn't exist\")\n",
    "    \n",
    "                except:\n",
    "                    print(\"Plan tidak di temukan atau terjadi error\")\n",
    "\n",
    "    def upgrade_plan(self,current_plan,new_plan):\n",
    "        if new_plan != self.current_plan:\n",
    "            if self.duration_plan > 12:\n",
    "                if new_plan == \"Basic Plan\":\n",
    "                    total = 120000 - (120000*0.05)\n",
    "                    return total\n",
    "    \n",
    "                elif new_plan == \"Standard Plan\":\n",
    "                    total = 160000 - (16000*0.05)\n",
    "                    return total\n",
    "    \n",
    "                elif new_plan == \"Premium Plan\":\n",
    "                    total = 200000 - (200000*0.05)\n",
    "                    return total\n",
    "    \n",
    "                else:\n",
    "                    raise Exception (\"Plan Doesn't Exist\")\n",
    "    \n",
    "            else:\n",
    "             if new_plan == \"Basic Plan\":\n",
    "                 total = 120_000\n",
    "                 return total\n",
    "             elif new_plan == \"Standard Plan\":\n",
    "                 total = 160_000\n",
    "                 return total\n",
    "             elif new_plan == \"Premium Plan\":\n",
    "                 total = 200_000\n",
    "                 return total\n",
    "         \n",
    "\n",
    "              "
   ]
  },
  {
   "cell_type": "code",
   "execution_count": 5,
   "id": "b25c62b3-67f2-4f32-84cf-0e729aea8a55",
   "metadata": {},
   "outputs": [],
   "source": [
    "user_1 = User(\"Shandy\", 12, \"Basic Plan\")\n",
    "user_2 = User(\"Cahya\", 24, \"Standard Plan\")"
   ]
  },
  {
   "cell_type": "code",
   "execution_count": 6,
   "id": "d6bcf61f-8da7-4b07-8c0b-24c988b76373",
   "metadata": {},
   "outputs": [
    {
     "data": {
      "text/plain": [
       "('Shandy', 12, 'Basic Plan')"
      ]
     },
     "execution_count": 6,
     "metadata": {},
     "output_type": "execute_result"
    }
   ],
   "source": [
    "# check attribute in Class\n",
    "user_1.username, user_1.duration_plan, user_1.current_plan"
   ]
  },
  {
   "cell_type": "code",
   "execution_count": 7,
   "id": "cb1a6e7f-6067-415b-b198-ccbf4e87e81f",
   "metadata": {},
   "outputs": [
    {
     "name": "stdout",
     "output_type": "stream",
     "text": [
      "PacFlix\n",
      "\n",
      "                  Basic Plan            Standard Plan                                         Premium Plan\n",
      "----------------  --------------------  ----------------------------------------------------  -------------------------------------------------------------\n",
      "can_stream        True                  True                                                  True\n",
      "can_download      True                  True                                                  True\n",
      "has_SD            True                  True                                                  True\n",
      "has_HD            False                 True                                                  True\n",
      "has_UHD           False                 False                                                 True\n",
      "Number of Device  1                     2                                                     4\n",
      "Content           3rd party movie only  Basic Plan Content + Sports (F1,Football,Basketball)  Basic Plan + Standard Plan + PacFlix Original Movie or Series\n",
      "Price             120000                160000                                                200000\n"
     ]
    }
   ],
   "source": [
    "user_1.check_benefit()"
   ]
  },
  {
   "cell_type": "code",
   "execution_count": 8,
   "id": "0976eb2c-2502-495c-b14c-1315baaed8ea",
   "metadata": {},
   "outputs": [
    {
     "name": "stdout",
     "output_type": "stream",
     "text": [
      "Basic Plan\n",
      "12 Bulan \n",
      "\n",
      "Basic Plan PacFlix Benefit list \n",
      "\n",
      "Basic Plan            Service\n",
      "--------------------  ----------------\n",
      "True                  can_stream\n",
      "True                  can_download\n",
      "True                  has_SD\n",
      "False                 has_HD\n",
      "False                 has_UHD\n",
      "1                     Number of Device\n",
      "3rd party movie only  Content\n",
      "120000                Price\n"
     ]
    }
   ],
   "source": [
    "user_1.check_plan()"
   ]
  },
  {
   "cell_type": "code",
   "execution_count": 9,
   "id": "5a5daa8a-542a-48ca-ad65-37b4356e2eb2",
   "metadata": {},
   "outputs": [
    {
     "data": {
      "text/plain": [
       "160000"
      ]
     },
     "execution_count": 9,
     "metadata": {},
     "output_type": "execute_result"
    }
   ],
   "source": [
    "user_1.upgrade_plan(user_1.current_plan,\"Standard Plan\")"
   ]
  },
  {
   "cell_type": "code",
   "execution_count": 10,
   "id": "d6d80b99-54a2-4760-ad60-fed1f16ed053",
   "metadata": {},
   "outputs": [
    {
     "data": {
      "text/plain": [
       "('Cahya', 24, 'Standard Plan')"
      ]
     },
     "execution_count": 10,
     "metadata": {},
     "output_type": "execute_result"
    }
   ],
   "source": [
    "user_2.username, user_2.duration_plan, user_2.current_plan"
   ]
  },
  {
   "cell_type": "code",
   "execution_count": 11,
   "id": "b99ad71d-3b64-4c88-b214-c3fe047c7da7",
   "metadata": {},
   "outputs": [
    {
     "name": "stdout",
     "output_type": "stream",
     "text": [
      "PacFlix\n",
      "\n",
      "                  Basic Plan            Standard Plan                                         Premium Plan\n",
      "----------------  --------------------  ----------------------------------------------------  -------------------------------------------------------------\n",
      "can_stream        True                  True                                                  True\n",
      "can_download      True                  True                                                  True\n",
      "has_SD            True                  True                                                  True\n",
      "has_HD            False                 True                                                  True\n",
      "has_UHD           False                 False                                                 True\n",
      "Number of Device  1                     2                                                     4\n",
      "Content           3rd party movie only  Basic Plan Content + Sports (F1,Football,Basketball)  Basic Plan + Standard Plan + PacFlix Original Movie or Series\n",
      "Price             120000                160000                                                200000\n"
     ]
    }
   ],
   "source": [
    "user_2.check_benefit()"
   ]
  },
  {
   "cell_type": "code",
   "execution_count": 12,
   "id": "dc39fca4-bfc3-457a-bd2c-0d0c26ece0ad",
   "metadata": {},
   "outputs": [
    {
     "name": "stdout",
     "output_type": "stream",
     "text": [
      "Standard Plan\n",
      "24 Bulan \n",
      "\n",
      "Standard Plan PacFlix Benefit list \n",
      "\n",
      "Standard Plan                                         Service\n",
      "----------------------------------------------------  ----------------\n",
      "True                                                  can_stream\n",
      "True                                                  can_download\n",
      "True                                                  has_SD\n",
      "True                                                  has_HD\n",
      "False                                                 has_UHD\n",
      "2                                                     Number of Device\n",
      "Basic Plan Content + Sports (F1,Football,Basketball)  Content\n",
      "160000                                                Price\n"
     ]
    }
   ],
   "source": [
    "user_2.check_plan()"
   ]
  },
  {
   "cell_type": "code",
   "execution_count": 13,
   "id": "90c42394-1f65-4af5-b997-95e5cf0c3850",
   "metadata": {},
   "outputs": [
    {
     "data": {
      "text/plain": [
       "190000.0"
      ]
     },
     "execution_count": 13,
     "metadata": {},
     "output_type": "execute_result"
    }
   ],
   "source": [
    "user_2.upgrade_plan(user_2.current_plan,\"Premium Plan\")"
   ]
  },
  {
   "cell_type": "code",
   "execution_count": 14,
   "id": "40b203a5-51ec-4a6c-bf27-0f4aecaed33b",
   "metadata": {},
   "outputs": [],
   "source": [
    "class NewUser:\n",
    "    check_list = []\n",
    "\n",
    "    def __init__(self, username):\n",
    "        self.username = username\n",
    "\n",
    "    def convert_data_to_list(self,data):\n",
    "        for data in data.values():\n",
    "            for val in data:\n",
    "                self.check_list.append(val)\n",
    "\n",
    "        return self.check_list\n",
    "    \n",
    "    def pick_plan(self,new_plan,refferal_code):\n",
    "        if refferal_code in self.check_list:\n",
    "            if new_plan == \"Basic Plan\":\n",
    "                total = 120000 - (120000 * 0.04)\n",
    "                return total\n",
    "            elif new_plan == \"Standard Plan\":\n",
    "                total = 160000 - (160000 * 0.04)\n",
    "                return total\n",
    "            elif new_plan == \"Premium Plan\":\n",
    "                total = 200000 - (200000 * 0.04)\n",
    "                return total\n",
    "            else:\n",
    "                print(\"Plan Does'nt Exist\")\n",
    "\n",
    "        else:\n",
    "            print(\"Refferal  Code Does'nt Exist\")\n",
    "\n",
    "\n",
    "\n",
    "\n",
    "\n",
    "\n",
    "\n"
   ]
  },
  {
   "cell_type": "code",
   "execution_count": 15,
   "id": "b90c91d5-4c3e-4bb9-9077-1fa9dfd1eea4",
   "metadata": {},
   "outputs": [],
   "source": [
    "faizal = NewUser(\"faizal_icikiwir\")"
   ]
  },
  {
   "cell_type": "code",
   "execution_count": 16,
   "id": "014be3f2-9510-4ad5-a4a1-e7fa8902ba52",
   "metadata": {},
   "outputs": [
    {
     "data": {
      "text/plain": [
       "['Basic Plan',\n",
       " 12,\n",
       " 'shandy-2134',\n",
       " 'Standard Plan',\n",
       " 24,\n",
       " 'cahya-abcd',\n",
       " 'Premium Plan',\n",
       " 5,\n",
       " 'ana-2f9g',\n",
       " 'Basic Plan',\n",
       " 11,\n",
       " 'bagus-9f92']"
      ]
     },
     "execution_count": 16,
     "metadata": {},
     "output_type": "execute_result"
    }
   ],
   "source": [
    "faizal.convert_data_to_list(data)"
   ]
  },
  {
   "cell_type": "code",
   "execution_count": 17,
   "id": "42b1b979-fe9e-445d-bc6a-9599a3ecb736",
   "metadata": {},
   "outputs": [
    {
     "data": {
      "text/plain": [
       "115200.0"
      ]
     },
     "execution_count": 17,
     "metadata": {},
     "output_type": "execute_result"
    }
   ],
   "source": [
    "faizal.pick_plan(\"Basic Plan\", \"shandy-2134\")"
   ]
  },
  {
   "cell_type": "code",
   "execution_count": 18,
   "id": "3b73af76-cc14-49b8-8ff7-25ad94b2b6e1",
   "metadata": {},
   "outputs": [
    {
     "name": "stdout",
     "output_type": "stream",
     "text": [
      "Refferal  Code Does'nt Exist\n"
     ]
    }
   ],
   "source": [
    "faizal.pick_plan(\"Basic Plan\", \"indira-22gs\")"
   ]
  }
 ],
 "metadata": {
  "kernelspec": {
   "display_name": "base",
   "language": "python",
   "name": "python3"
  },
  "language_info": {
   "codemirror_mode": {
    "name": "ipython",
    "version": 3
   },
   "file_extension": ".py",
   "mimetype": "text/x-python",
   "name": "python",
   "nbconvert_exporter": "python",
   "pygments_lexer": "ipython3",
   "version": "3.12.7"
  }
 },
 "nbformat": 4,
 "nbformat_minor": 5
}
