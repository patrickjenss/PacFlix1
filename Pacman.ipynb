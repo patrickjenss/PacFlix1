{
 "cells": [
  {
   "cell_type": "code",
   "execution_count": 81,
   "metadata": {},
   "outputs": [],
   "source": [
    "from tabulate import tabulate"
   ]
  },
  {
   "cell_type": "code",
   "execution_count": 82,
   "metadata": {},
   "outputs": [],
   "source": [
    "data = {\n",
    "    \"Shandy\": [\"Basic Plan\", 12, \"shandy-2134\"],\n",
    "    \"Cahya\": [\"Standard Plan\", 24, \"cahya-abcd\"],\n",
    "    \"Ana\": [\"Premium Plan\", 5, \"ana-2f9g\"],\n",
    "    \"Bagus\": [\"Basic Plan\", 11, \"bagus-9f92\"]\n",
    "}"
   ]
  },
  {
   "cell_type": "code",
   "execution_count": 106,
   "metadata": {},
   "outputs": [],
   "source": [
    "class User:\n",
    "    def __init__(self, username, duration_plan, current_plan):\n",
    "        self.username = username\n",
    "        self.duration_plan = duration_plan\n",
    "        self.current_plan = current_plan\n",
    "\n",
    "    def check_all_plan(self):\n",
    "        print(\"PacFlix Plan List\")\n",
    "\n",
    "        header = [\"Basic Plan\", \"Standard Plan\", \"Premium Plan\"]\n",
    "\n",
    "        rows = [\n",
    "            [True, True, True, \"Bisa Stream\"],\n",
    "            [True, True, True, \"Bisa Download\"],\n",
    "            [True, True, True, \"Kualitas SD\"],\n",
    "            [False, True, True, \"Kualitas HD\"],\n",
    "            [False, False, True, \"Kualitas UHD\"],\n",
    "            [1, 2, 4, \"Jumlah Device\"],\n",
    "            [120000, 160000, 200000, \"Harga\"]           \n",
    "        ]\n",
    "        print()\n",
    "\n",
    "        print(tabulate(rows,header))\n",
    "\n",
    "    def check_user_plan(self):\n",
    "        print(f\"username {self.username}\")\n",
    "        print(f\"duration plan {self.duration_plan}\")\n",
    "\n",
    "        if self.current_plan == \"Basic Plan\":\n",
    "            header = [\"Basic Plan\",\"service\"]\n",
    "            row = [\n",
    "                [True, \"Bisa Stream\"],\n",
    "                [True, \"Bisa Download\"],\n",
    "                [True, \"Kualitas SD\"],\n",
    "                [False, \"Kualitas HD\"],\n",
    "                [False, \"Kualitas UHD\"],\n",
    "                [1, \"Jumlah Device\"],\n",
    "                [120000, \"Harga\"]\n",
    "            ]\n",
    "            print(tabulate(row,header))\n",
    "\n",
    "        elif self.current_plan == \"Standard Plan\":\n",
    "            header = [\"Standard Plan\",\"service\"]\n",
    "            row = [\n",
    "                [True, \"Bisa Stream\"],\n",
    "                [True, \"Bisa Download\"],\n",
    "                [True, \"Kualitas SD\"],\n",
    "                [True, \"Kualitas HD\"],\n",
    "                [False, \"Kualitas UHD\"],\n",
    "                [2, \"Jumlah Device\"],\n",
    "                [160000, \"Harga\"]\n",
    "            ]\n",
    "            print(tabulate(row,header))\n",
    "\n",
    "        elif self.current_plan == \"Premium Plan\":\n",
    "            header = [\"Premium Plan\",\"service\"]\n",
    "            row = [\n",
    "                        [True, \"Bisa Stream\"],\n",
    "                        [True, \"Bisa Download\"],\n",
    "                        [True, \"Kualitas SD\"],\n",
    "                        [True, \"Kualitas HD\"],\n",
    "                        [True, \"Kualitas UHD\"],\n",
    "                        [4, \"Jumlah Device\"],\n",
    "                        [200000, \"Harga\"]\n",
    "            ]\n",
    "            print(tabulate(row,header))\n",
    "            \n",
    "    def upgrade_plan(self, new_plan):\n",
    "        if self.duration_plan > 12:\n",
    "            discount = 0.05\n",
    "        else:\n",
    "            discount = 0\n",
    "\n",
    "        if new_plan == \"Standard Plan\":\n",
    "            original_price = 160000\n",
    "        elif new_plan == \"Premium Plan\":\n",
    "            original_price = 200000\n",
    "        else:\n",
    "            raise ValueError(\"Plan tidak dikenali\")\n",
    "\n",
    "        discount_price = original_price * discount\n",
    "        final_price = original_price - discount_price\n",
    "\n",
    "        return final_price"
   ]
  },
  {
   "cell_type": "code",
   "execution_count": 107,
   "metadata": {},
   "outputs": [],
   "source": [
    "user_1 = User(\"Shandy\", 12, \"Basic Plan\")\n",
    "user_2 = User(\"Cahya\", 24, \"Standard Plan\")"
   ]
  },
  {
   "cell_type": "code",
   "execution_count": 108,
   "metadata": {},
   "outputs": [
    {
     "name": "stdout",
     "output_type": "stream",
     "text": [
      "Shandy 12 Basic Plan\n",
      "Cahya 24 Standard Plan\n"
     ]
    }
   ],
   "source": [
    "print(user_1.username, user_1.duration_plan, user_1.current_plan)\n",
    "print(user_2.username, user_2.duration_plan, user_2.current_plan)"
   ]
  },
  {
   "cell_type": "code",
   "execution_count": 86,
   "metadata": {},
   "outputs": [
    {
     "name": "stdout",
     "output_type": "stream",
     "text": [
      "PacFlix Plan List\n",
      "\n",
      "          Basic Plan    Standard Plan  Premium Plan\n",
      "------  ------------  ---------------  --------------\n",
      "  True          True             True  Bisa Stream\n",
      "  True          True             True  Bisa Download\n",
      "  True          True             True  Kualitas SD\n",
      " False          True             True  Kualitas HD\n",
      " False         False             True  Kualitas UHD\n",
      "     1             2                4  Jumlah Device\n",
      "120000        160000           200000  Harga\n"
     ]
    }
   ],
   "source": [
    "user_1.check_all_plan()"
   ]
  },
  {
   "cell_type": "code",
   "execution_count": 87,
   "metadata": {},
   "outputs": [
    {
     "name": "stdout",
     "output_type": "stream",
     "text": [
      "username Cahya\n",
      "duration plan 24\n",
      "  Standard Plan  service\n",
      "---------------  -------------\n",
      "           True  Bisa Stream\n",
      "           True  Bisa Download\n",
      "           True  Kualitas SD\n",
      "           True  Kualitas HD\n",
      "          False  Kualitas UHD\n",
      "              2  Jumlah Device\n",
      "         160000  Harga\n"
     ]
    }
   ],
   "source": [
    "user_2.check_user_plan()"
   ]
  },
  {
   "cell_type": "code",
   "execution_count": 117,
   "metadata": {},
   "outputs": [
    {
     "name": "stdout",
     "output_type": "stream",
     "text": [
      "200000\n",
      "190000.0\n"
     ]
    }
   ],
   "source": [
    "print(user_1.upgrade_plan(\"Premium Plan\"))\n",
    "print(user_2.upgrade_plan(\"Premium Plan\"))"
   ]
  },
  {
   "cell_type": "code",
   "execution_count": 140,
   "metadata": {},
   "outputs": [],
   "source": [
    "valid_code = {value[2] for key, value in data.items()}"
   ]
  },
  {
   "cell_type": "code",
   "execution_count": 156,
   "metadata": {},
   "outputs": [],
   "source": [
    "class NewUser:\n",
    "    def __init__(self, username):\n",
    "        self.username = username\n",
    "\n",
    "    def pick_plan(self, new_plan, referral_code):\n",
    "        if referral_code in valid_code:\n",
    "            #code valid\n",
    "            discount = 0.04\n",
    "        else:\n",
    "            raise Exception(\"Referral code doesn't exist\")\n",
    "\n",
    "        if new_plan == \"Basic Plan\":\n",
    "            original_price = 120000\n",
    "\n",
    "        elif new_plan == \"Standard Plan\":\n",
    "            original_price = 160000\n",
    "            \n",
    "        elif new_plan == \"Premium Plan\":\n",
    "            original_price = 200000\n",
    "\n",
    "        discount_price = original_price * discount\n",
    "        final_price = original_price - discount_price\n",
    "\n",
    "        return final_price\n",
    "\n",
    "        "
   ]
  },
  {
   "cell_type": "code",
   "execution_count": 158,
   "metadata": {},
   "outputs": [],
   "source": [
    "faizal = NewUser(\"faizal_icikiwir\")\n"
   ]
  },
  {
   "cell_type": "code",
   "execution_count": 159,
   "metadata": {},
   "outputs": [
    {
     "name": "stdout",
     "output_type": "stream",
     "text": [
      "115200.0\n"
     ]
    }
   ],
   "source": [
    "print(faizal.pick_plan(\"Basic Plan\",\"shandy-2134\"))"
   ]
  },
  {
   "cell_type": "code",
   "execution_count": null,
   "metadata": {},
   "outputs": [],
   "source": []
  }
 ],
 "metadata": {
  "kernelspec": {
   "display_name": "base",
   "language": "python",
   "name": "python3"
  },
  "language_info": {
   "codemirror_mode": {
    "name": "ipython",
    "version": 3
   },
   "file_extension": ".py",
   "mimetype": "text/x-python",
   "name": "python",
   "nbconvert_exporter": "python",
   "pygments_lexer": "ipython3",
   "version": "3.12.7"
  }
 },
 "nbformat": 4,
 "nbformat_minor": 2
}
